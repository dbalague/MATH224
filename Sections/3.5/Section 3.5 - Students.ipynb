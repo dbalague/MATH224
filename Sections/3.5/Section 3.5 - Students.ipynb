{
 "cells": [
  {
   "cell_type": "markdown",
   "metadata": {
    "slideshow": {
     "slide_type": "slide"
    }
   },
   "source": [
    "# 3.5 Repeated and Zero Eigenvalues"
   ]
  },
  {
   "cell_type": "markdown",
   "metadata": {
    "slideshow": {
     "slide_type": "slide"
    }
   },
   "source": [
    "## 3.5.1 Systems with repeated eigenvalues\n",
    "\n",
    "Most two-dimensional linear systems have either two distinct nonzero eigenvalues or two distinct complex eigenvalues.  Those systems that do not are called **degenerate**."
   ]
  },
  {
   "cell_type": "markdown",
   "metadata": {
    "slideshow": {
     "slide_type": "subslide"
    }
   },
   "source": [
    "## Example 1\n",
    "Consider the following linear system:\n",
    "<div class=\"row\">\n",
    "  <div class=\"col-md-8\" markdown=\"1\">\n",
    "    \\begin{align*}\n",
    "    \\dfrac{dx}{dt} & =  -2x-y\\\\\n",
    "    \\dfrac{dy}{dt} & =  x-4y\n",
    "    \\end{align*}\n",
    "      \n",
    "The direction field indicates that all solutions tend toward the origin as $t$ increases.  The equilibrium point at the origin is still called a _sink_ in this case.\n",
    "  </div>\n",
    "  <div class=\"col-md-4\" markdown=\"1\">\n",
    "  <!-- ![Alt Text](../img/folder/blah.jpg) -->\n",
    "  <img src=\"example1_vecfield.png\"\n",
    "     alt=\"Direction Field for System in Example 1\"\n",
    "     style=\"float: right; margin-right: 10px;\" />\n",
    "  </div>\n",
    "</div>"
   ]
  },
  {
   "cell_type": "markdown",
   "metadata": {
    "slideshow": {
     "slide_type": "subslide"
    }
   },
   "source": [
    "### Example 1 (Video)\n",
    "[![Example1](http://img.youtube.com/vi/18mOPBsX5qQ/0.jpg)](http://www.youtube.com/watch?v=18mOPBsX5qQ \"Example1\")"
   ]
  },
  {
   "cell_type": "markdown",
   "metadata": {
    "slideshow": {
     "slide_type": "subslide"
    }
   },
   "source": [
    "### Example 1 (Continued)\n",
    "<div class=\"col-md-12\" markdown=\"1\">\n",
    "If we write the matrix associated with the system, we obtain\n",
    "$$A = \\begin{pmatrix} -2 & -1 \\\\ 1 & -4 \\end{pmatrix}$$\n",
    "Which has characteristic polynomial\n",
    "$$\n",
    "P(\\lambda) = \\lambda^{2} + 6\\lambda + 9.\n",
    "$$\n",
    "The system has a repeated eigenvalue $\\lambda=-3$ with associated eigenvector $\\mathbf{v}=\\begin{pmatrix} 1\\\\1\\end{pmatrix}$.\n",
    "One solution to the sytem is $\\mathbf{Y}_1(t) = \\begin{pmatrix} e^{-3t}\\\\ e^{-3t} \\end{pmatrix}$.\n",
    "</div>"
   ]
  },
  {
   "cell_type": "markdown",
   "metadata": {
    "slideshow": {
     "slide_type": "subslide"
    }
   },
   "source": [
    "We found one solution to the system above, but we know that in order to obtain the general solution, we need a second solution that is linearly independent from the first.  To figure out how to do this, let's look at a system that partially decouples."
   ]
  },
  {
   "cell_type": "markdown",
   "metadata": {
    "slideshow": {
     "slide_type": "subslide"
    }
   },
   "source": [
    "## Example 2\n",
    "Consider the following linear system:\n",
    "<div class=\"row\">\n",
    "  <div class=\"col-md-8\" markdown=\"1\">\n",
    "    \\begin{align*}\n",
    "    \\dfrac{dx}{dt} & =  2x\\\\\n",
    "    \\dfrac{dy}{dt} & =  x+2y\n",
    "    \\end{align*}\n",
    "      \n",
    "Let's find a solution to the the linear system of differential equations (watch the video from the next slide).\n",
    "  </div>\n",
    "  <div class=\"col-md-4\" markdown=\"1\">\n",
    "  <!-- ![Alt Text](../img/folder/blah.jpg) -->\n",
    "  <img src=\"example2_vecfield.png\"\n",
    "     alt=\"Direction Field for System in Example 2\"\n",
    "     style=\"float: right; margin-right: 10px;\" />\n",
    "  </div>\n",
    "</div>"
   ]
  },
  {
   "cell_type": "markdown",
   "metadata": {
    "slideshow": {
     "slide_type": "subslide"
    }
   },
   "source": [
    "### Example 2 (Video)\n",
    "\n",
    "[![Example 2 Part 1](http://img.youtube.com/vi/fdDmYES0Vv8/0.jpg)](http://www.youtube.com/watch?v=fdDmYES0Vv8 \"Example 2 Part 1\")"
   ]
  },
  {
   "cell_type": "markdown",
   "metadata": {
    "slideshow": {
     "slide_type": "subslide"
    }
   },
   "source": [
    "## Example 2 (continued)\n",
    "\n",
    "The solution to the system is \n",
    "\\begin{align*}\n",
    "x(t) &= k_1 e^{2t}\\\\\n",
    "y(t) &= k_{1} t e^{2 \\, t} + k_{2} e^{2 \\, t}\n",
    "\\end{align*}"
   ]
  },
  {
   "cell_type": "markdown",
   "metadata": {
    "slideshow": {
     "slide_type": "subslide"
    }
   },
   "source": [
    "## Generalization (video)\n",
    "\n",
    "[![\"Proof of Theorem 1\"](http://img.youtube.com/vi/wmqSJVG5Q_M/0.jpg)](http://www.youtube.com/watch?v=wmqSJVG5Q_M \"Proof of Theorem 1\")\n"
   ]
  },
  {
   "cell_type": "markdown",
   "metadata": {
    "slideshow": {
     "slide_type": "subslide"
    }
   },
   "source": [
    "<div class=\"col-md-12\" markdown=\"1\">\n",
    "More generally, consider a system $\\dfrac{d\\mathbf{Y}}{dt}=A\\mathbf{Y}$ with a repeated eigenvalue $\\lambda$.  Let's \"guess\" a solution of the form \n",
    "$$\n",
    "\\mathbf{Y}(t)=e^{\\lambda t}\\mathbf{V}_0+te^{\\lambda t}\\mathbf{V}_1.\n",
    "$$\n",
    "\n",
    "We see that in order for $\\mathbf{Y}(t)$ to be a solution, we need\n",
    "$$\n",
    "\\begin{array}{lrclc}\n",
    "(i) & A\\mathbf{V}_1&=& \\lambda\\mathbf{V}_1,&\\text{ and}\\\\\n",
    "(ii) & \\mathbf{V}_1 & = & (A-\\lambda I)\\mathbf{V}_0.&\n",
    "\\end{array}\n",
    "$$\n",
    "</div>"
   ]
  },
  {
   "cell_type": "markdown",
   "metadata": {
    "slideshow": {
     "slide_type": "subslide"
    }
   },
   "source": [
    "# Theorem 1\n",
    "\n",
    "Suppose ${\\frac{d \\mathbf{Y}}{dt}} = A \\mathbf{Y}$ is a linear system in which the $2 \\times 2$ matrix $A$ has a repeated real eigenvalue $\\lambda$ but only one line of eigenvectors. Then the general solution has the form\n",
    "$$\n",
    " \\mathbf{Y}(t) = e^{\\lambda t} \\mathbf{V}_0+ t e^{\\lambda t}\\mathbf{V}_1,\n",
    "$$\n",
    "where $\\mathbf{V}_0= (x_0,y_0)$ is an arbitrary initial condition and $\\mathbf{V}_1$ is determined from $\\mathbf{V}_0$ by $$\\mathbf{V}_1 = (A - \\lambda I) \\mathbf{V}_0.$$\n",
    "\n",
    "\n",
    "If $\\mathbf{V}_1= \\mathbf{0}$, then $\\mathbf{V}_0$ is an eigenvector and $\\mathbf{Y}(t)$ is a straight line solution. Otherwise $\\mathbf{V}_1$ is an eigenvector."
   ]
  },
  {
   "cell_type": "markdown",
   "metadata": {
    "slideshow": {
     "slide_type": "subslide"
    }
   },
   "source": [
    "## Application (video)\n",
    "Let's apply this Theorem to Examples 1 and 2.\n",
    "\n",
    "| Example 1 (Part 2)       |  Example 2 (Part 2) |\n",
    ":------------------------- |:-------------------------\n",
    "[![Example 1 Part 2](http://img.youtube.com/vi/n2R56UlJj58/0.jpg)](http://www.youtube.com/watch?v=n2R56UlJj58 \"Example 1 Part 2\")  |  [![Example 2 Part 2](http://img.youtube.com/vi/djnsY__7Iy4/0.jpg)](http://www.youtube.com/watch?v=djnsY__7Iy4 \"Example 2 Part 2\")\n",
    "\n"
   ]
  },
  {
   "cell_type": "markdown",
   "metadata": {
    "slideshow": {
     "slide_type": "subslide"
    }
   },
   "source": [
    "### Example 1 (revisited)\n",
    "\n",
    "Consider the following linear system:\n",
    "\\begin{align*}\n",
    "\\dfrac{dx}{dt} & =  -2x-y\\\\\n",
    "\\dfrac{dy}{dt} & =  x-4y\n",
    "\\end{align*}\n",
    "We know that one solution is $\\mathbf{Y}_1(t) = e^{-3t}\\begin{pmatrix} 1\\\\ 1 \\end{pmatrix}$."
   ]
  },
  {
   "cell_type": "markdown",
   "metadata": {
    "slideshow": {
     "slide_type": "subslide"
    }
   },
   "source": [
    "### Example 1 (revisited II)\n",
    "\n",
    "We will apply Theorem 1.\n"
   ]
  },
  {
   "cell_type": "markdown",
   "metadata": {
    "slideshow": {
     "slide_type": "fragment"
    }
   },
   "source": [
    "For determining $\\mathbf{V}_1$, we use $\\mathbf{V}_1 = (A-\\lambda I)\\mathbf{V}_0$:\n",
    "\\begin{align*}\n",
    "\\mathbf{V}_1 = \\begin{pmatrix}1&-1\\\\1 &-1 \\end{pmatrix}\\begin{pmatrix}x_0\\\\y_0\\end{pmatrix} = \\begin{pmatrix}x_0-y_0\\\\x_0-y_0\\end{pmatrix}\n",
    "\\end{align*}"
   ]
  },
  {
   "cell_type": "markdown",
   "metadata": {
    "slideshow": {
     "slide_type": "fragment"
    }
   },
   "source": [
    "The general solution is\n",
    "$$\n",
    "\\mathbf{Y}(t) = e^{-3t}\\begin{pmatrix}x_0\\\\y_0\\end{pmatrix} + te^{-3t}\\begin{pmatrix}x_0-y_0\\\\x_0-y_0\\end{pmatrix}\n",
    "$$"
   ]
  },
  {
   "cell_type": "markdown",
   "metadata": {
    "slideshow": {
     "slide_type": "subslide"
    }
   },
   "source": [
    "### Example 2 (summary)\n",
    "Consider the linear system\n",
    "<div class=\"row\">\n",
    "  <div class=\"col-md-6\" markdown=\"1\">\n",
    "\\begin{align*}\n",
    "\\dfrac{dx}{dt} & =  2x\\\\\n",
    "\\dfrac{dy}{dt} & =  x+2y\n",
    "\\end{align*}\n",
    "      \n",
    "- The associated matrix is \n",
    "$$A=\\begin{pmatrix}2 & 0 \\\\1 & 2 \\end{pmatrix},$$\n",
    "- The Characteristic polynomial is\n",
    "$$p(\\lambda) = \\lambda^2-4\\lambda + 4$$\n",
    "  </div>\n",
    "  <div class=\"col-md-6\" markdown=\"1\">\n",
    "- The eigenvalue is $\\lambda_1=2$ with associated eigenvector $\\mathbf{V}_1=\\begin{pmatrix}0\\\\1\\end{pmatrix}$.\n",
    "- Applying Theorem 1 with $\\mathbf{V}_0=\\begin{pmatrix}x_0\\\\y_0\\end{pmatrix}$ we obtain $\\mathbf{V}_1 = \\begin{pmatrix} 0 \\\\ x_0\\end{pmatrix}$.\n",
    "- The general solution is\n",
    "$$\n",
    "\\mathbf{Y}(t) = e^{2t}\\begin{pmatrix}x_0\\\\y_0\\end{pmatrix} + te^{2t}\\begin{pmatrix}0\\\\x_0\\end{pmatrix}\n",
    "$$\n",
    "  </div>\n",
    "</div>"
   ]
  },
  {
   "cell_type": "markdown",
   "metadata": {
    "slideshow": {
     "slide_type": "subslide"
    }
   },
   "source": [
    "# Conclusions\n",
    "\n",
    "- If the eigenvalue $\\lambda<0,$ the equilibrium point at the origin is a sink.  As $t$ increases, the solutions tend to the origin in a direction that is tangent to the line of eigenvectors.\n",
    "\n",
    "\n",
    "- If the eigenvalue $\\lambda>0,$ the equilibrium point at the origin is a source.  As $t$ decreases, the solutions tend to the origin in a direction that is tangent to the line of eigenvectors."
   ]
  },
  {
   "cell_type": "markdown",
   "metadata": {
    "slideshow": {
     "slide_type": "slide"
    }
   },
   "source": [
    "# 3.5.2 Systems With Zero as One Eigenvalue"
   ]
  },
  {
   "cell_type": "markdown",
   "metadata": {
    "slideshow": {
     "slide_type": "subslide"
    }
   },
   "source": [
    "## Example 3\n",
    "Consider the linear system of differential equations:\n",
    "<div class=\"row\">\n",
    "  <div class=\"col-md-8\" markdown=\"1\">\n",
    "    \\begin{align*}\n",
    "    \\dfrac{dx}{dt} & =  2x+4y,\\\\\n",
    "    \\dfrac{dy}{dt} & =  3x+6y.\n",
    "    \\end{align*}\n",
    "Find the eigenvalues, eigenvectors, general solution, and the solution to the IVP with $\\mathbf{Y}(0)=\\begin{pmatrix}1\\\\0\\end{pmatrix}.$\n",
    "  </div>\n",
    "  <div class=\"col-md-4\" markdown=\"1\">\n",
    "  <!-- ![Alt Text](../img/folder/blah.jpg) -->\n",
    "  <img src=\"example3_vecfield.png\"\n",
    "     alt=\"Direction Field for System in Example 3\"\n",
    "     style=\"float: right; margin-right: 10px;\" />\n",
    "  </div>\n",
    "</div>"
   ]
  },
  {
   "cell_type": "markdown",
   "metadata": {
    "slideshow": {
     "slide_type": "subslide"
    }
   },
   "source": [
    "### Example 3 (video)\n",
    "\n",
    "[![Example 3](http://img.youtube.com/vi/5_kep_vK654/0.jpg)](http://www.youtube.com/watch?v=5_kep_vK654 \"Example 3\")"
   ]
  },
  {
   "cell_type": "markdown",
   "metadata": {
    "slideshow": {
     "slide_type": "subslide"
    }
   },
   "source": [
    "#### Example 3 (continued)\n",
    "\n",
    "- The matrix associated with the system is \n",
    "$$A=\\begin{pmatrix} 2 & 4 \\\\ 3 & 6 \\end{pmatrix}$$"
   ]
  },
  {
   "cell_type": "markdown",
   "metadata": {
    "slideshow": {
     "slide_type": "fragment"
    }
   },
   "source": [
    "- The characteristic polynomial is \n",
    "$$p(\\lambda) = \\lambda^2-8\\lambda$$"
   ]
  },
  {
   "cell_type": "markdown",
   "metadata": {
    "slideshow": {
     "slide_type": "fragment"
    }
   },
   "source": [
    "- The eigenvalues are $\\lambda_1 = 8$ and $\\lambda_2=0$.\n",
    "- The corresponding eigenvectors are $\\mathbf{v}_1 = \\begin{pmatrix}2\\\\3\\end{pmatrix}$, and $\\mathbf{v}_2 = \\begin{pmatrix}2\\\\-1\\end{pmatrix}$"
   ]
  },
  {
   "cell_type": "markdown",
   "metadata": {
    "slideshow": {
     "slide_type": "subslide"
    }
   },
   "source": [
    "#### Example 3 (continued)\n",
    "\n",
    "The general solution is \n",
    "$$\n",
    "\\mathbf{Y}(t) = k_1e^{8t}\\begin{pmatrix}2\\\\3\\end{pmatrix} + k_2\\begin{pmatrix}2\\\\-1\\end{pmatrix}\n",
    "$$\n",
    "And applying the initial condition $\\begin{pmatrix}1\\\\0\\end{pmatrix}$ we obtain $k_1=\\frac18$ and $k_2=\\frac38$.\n",
    "$$\n",
    "\\mathbf{Y}(t) = \\frac18 e^{8t}\\begin{pmatrix}2\\\\3\\end{pmatrix} + \\frac38\\begin{pmatrix}2\\\\-1\\end{pmatrix}\n",
    "$$"
   ]
  },
  {
   "cell_type": "markdown",
   "metadata": {
    "slideshow": {
     "slide_type": "fragment"
    }
   },
   "source": [
    "**OBSERVATION**\n",
    "If $k_1=0$ then we have $\\mathbf{Y}(t) = k_2\\begin{pmatrix}2\\\\-1\\end{pmatrix}$ as the general solution (with $k_2$ being any real number). We can observe that the solution is constant for all values of $t\\in \\mathbb{R}$. In other words, they are _equilibrium solutions_. This means that we obtain an entire line of equlibrium points (whihch is the line depicted in the direction field at the begining of the example)."
   ]
  },
  {
   "cell_type": "markdown",
   "metadata": {
    "slideshow": {
     "slide_type": "subslide"
    }
   },
   "source": [
    "**FINAL NOTE:** In general, suppose that we have $\\lambda_1=0$ and  $\\lambda_2 \\neq 0$, with associated eigenvectors $\\mathbf{V}_1$ and $\\mathbf{V}_2$. The general solution is given by\n",
    "\n",
    "$$\n",
    "\\mathbf{Y}(t) =  k_1\\mathbf{V}_1 + k_2 e^{\\lambda_2t} \\mathbf{V}_2. \n",
    "$$\n",
    "\n",
    "If $k_2=0$, ~$\\mathbf{Y}(t)=k_1\\mathbf{V}_1$ is a constant, equilibrium solution.  So every point on the line of eigenvectors for the eigenvalue $\\lambda_1=0$ is an equilibrium point.\n",
    "\n",
    "- For $\\lambda_2<0$, the solutions move toward the line of equilibrium points along a line that is parallel to $\\mathbf{V}_2.$\n",
    "- For $\\lambda_2>0$, the solutions move away from the line of equilibrium points along a line that is parallel to $\\mathbf{V}_2.$"
   ]
  },
  {
   "cell_type": "markdown",
   "metadata": {
    "slideshow": {
     "slide_type": "slide"
    }
   },
   "source": [
    "# A Special Type of System\n",
    "\n",
    "[![Special Systems](http://img.youtube.com/vi/nsei9cZyc94/0.jpg)](http://www.youtube.com/watch?v=nsei9cZyc94 \"Special Systems\")\n",
    "\n",
    "Notice that the Theorem 1 applies when the matrix $A$ has a repeated real eigenvalue $\\lambda$ _but only one line of eigenvectors_."
   ]
  }
 ],
 "metadata": {
  "kernelspec": {
   "display_name": "SageMath 8.9",
   "language": "sage",
   "name": "sagemath"
  },
  "language_info": {
   "codemirror_mode": {
    "name": "ipython",
    "version": 2
   },
   "file_extension": ".py",
   "mimetype": "text/x-python",
   "name": "python",
   "nbconvert_exporter": "python",
   "pygments_lexer": "ipython2",
   "version": "2.7.15"
  }
 },
 "nbformat": 4,
 "nbformat_minor": 2
}
